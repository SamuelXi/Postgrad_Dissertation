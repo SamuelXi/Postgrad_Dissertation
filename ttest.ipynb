{
 "cells": [
  {
   "cell_type": "code",
   "execution_count": 98,
   "metadata": {},
   "outputs": [],
   "source": [
    "import pandas as pd\n",
    "import numpy as np\n",
    "import matplotlib.pyplot as plt\n",
    "from scipy import stats"
   ]
  },
  {
   "cell_type": "markdown",
   "metadata": {},
   "source": [
    "## Filter Anxious and not Anxious and save ID as two list"
   ]
  },
  {
   "cell_type": "code",
   "execution_count": 13,
   "metadata": {},
   "outputs": [
    {
     "name": "stdout",
     "output_type": "stream",
     "text": [
      "['ff1d7a9a28686c2b', 'bd2adbff911d558e', '2adc46a1bfc70679', 'efe8a903afdceede', '2a531595d6ab08c8', '739442e141b9639a', '0beac20378edac7b', '46099f8b742520b0', '5696a26f6b865ccb', 'bc688588712e0329', 'd335e83ad7f741bf', 'f1de714332531aa5', 'f39ae9088896b47f', '6ac61d4f76c3add5', 'ce134a9a9b3122a0', '06c46b112368babf', 'e0da73d8b215a4e9', '865f30c3abd2af67', '52abc657a668b04e', 'adb5486de57c1af0', '74dc2bc1712979fe', '88316d88dd9fdbf7', '6246f3d78ae6b481', 'f205d1277e6ea6b4', 'ed3ee15cd6ecee51', '13e347e32a454872', '946fca84b1d53bed', 'af8390dd2a780433', 'e46f1f873f43128b', '9e5ca4f7d45dda1b', 'c00c5c68db223d0f', '2737c4b829b3018f', '6b1327cc38c17c20', 'ab7c01f6e1ec753a', '279cd1540fc8f71f', '4dee88b397c3bbf4', '49c4e664cf02d362', 'ae4cf4947761ad3f', 'c79644ab153c0a48', '322d6276c00056e7', '00aa64fdcb675341', '61dce9b56e969395', 'd794e2c3b9ab247f', 'a7ef69324e55dcf3', '9d781c40d36055b2', 'ec9403432374ee06', '12a096342c4d052f', '6dcbb2d2c8c4d46a', '4a6bf10e80304920', '10d15198ac61a404', '1ffdcfc59b83c43a', '221e9f16c114b2c0', 'ab652d1792ba579f', 'efbc4b723940e000']\n",
      "['27902f23b60a7b76', 'a0b880b91c2982dc', 'c7ddb07dc740f9c1', '8e531917bed03e00', '1cb976bac3a2016b', '819c4ba6a036130b', '46fd6e0b3b5c1df3', '0d894551bc966608', '163b12703c8e5c3c', '02535fcf7e16bb56', '5b92bfe31aef1ef9', 'e35e2512791cd931', 'e03130e76a547e00', '96b09fe2762bafab', '88586c741f59e4d3', '77d9b25715656b19', '1bf86ff948486447', '8b79e9cd1e3a58e9', '22d84796012679e8', 'e7d525b0fc295332', 'e9ca70bcef834214', '6e0c43d93a4a361e', '582ab220066afebc', '4a43f99c56b2a634', '8e3374a0d50454e0', '371fb6652968f25f', '8364d0796dcecadf', '0b0a94c202d0b233', '247384e4eccc4f80', '296a71628065dfa8', '09ba82a2ca814481', '5497867d4afb5993', 'd9a79bcfee67b028', 'd2bdb6ae89eb8aca', 'c893ddb5f65f1a1c', 'c012de0ccb49819f', '4e3de1ed1c0d6103', 'f98444c434d40f8b', '9ead7cfe118211af', 'dfbeb23c419b6979', 'd53b11bcaa0a2095', '3ddf191ed8c33c57', '84397dc336c286b4', '414f1040212a659b', '7e158eee0bbe3c33', '75da8965ce4f9b28', 'ab06a32c33b7c594', 'a751959dd7084c7b', '99bca86575635ced', '6d04498f5bb2aefc', '15e0c065b2c11595', 'fc7ef2c5b91399c2', 'a0891b37b5b5d79d', '6ece121c0867568c', 'b8d6cea15a548aa9', '4866612e834a9f5a', '820fed1432e2cffc', 'c4ea8a11570e9599', '6df05dd94d8d774d', 'd33cbb234efa4296', '0abfc32a4d12c731']\n"
     ]
    }
   ],
   "source": [
    "participant = pd.read_csv('./data/data_anx_gad7_prior.csv')\n",
    "anxious, nonAnxious = list(), list()\n",
    "for index, row in participant.iterrows():\n",
    "    if participant['gad7'][index] <= 7:\n",
    "        nonAnxious.append(participant['id'][index])\n",
    "    else:\n",
    "        anxious.append(participant['id'][index])\n",
    "\n",
    "print(anxious)\n",
    "print(nonAnxious)\n",
    "\n"
   ]
  },
  {
   "cell_type": "markdown",
   "metadata": {},
   "source": [
    "## Read all csv files from HDDM files\n"
   ]
  },
  {
   "cell_type": "code",
   "execution_count": 30,
   "metadata": {},
   "outputs": [],
   "source": [
    "#Read all files\n",
    "cA = pd.read_csv('./fitting_results/HDDM/HDDM2C/HDDM2Ca.csv', header=None, names=['label', 'mean', 'std', '2.5q', '25q', '50q', '75q', '97.5q', 'mc err'])\n",
    "cA.dropna(subset=['label'],inplace=True)\n",
    "cT = pd.read_csv('./fitting_results/HDDM/HDDM2C/HDDM2Ct.csv', header=None, names=['label', 'mean', 'std', '2.5q', '25q', '50q', '75q', '97.5q', 'mc err'])\n",
    "cT.dropna(subset=['label'],inplace=True)\n",
    "cV = pd.read_csv('./fitting_results/HDDM/HDDM2C/HDDM2Cv.csv', header=None, names=['label', 'mean', 'std', '2.5q', '25q', '50q', '75q', '97.5q', 'mc err'])\n",
    "cV.dropna(subset=['label'],inplace=True)\n",
    "cZ = pd.read_csv('./fitting_results/HDDM/HDDM2C/HDDM2Cz.csv', header=None, names=['label', 'mean', 'std', '2.5q', '25q', '50q', '75q', '97.5q', 'mc err'])\n",
    "cZ.dropna(subset=['label'],inplace=True)"
   ]
  },
  {
   "cell_type": "markdown",
   "metadata": {},
   "source": [
    "## 2 Condition (a)"
   ]
  },
  {
   "cell_type": "code",
   "execution_count": 55,
   "metadata": {},
   "outputs": [],
   "source": [
    "a_a = cA[cA['label'].str.startswith('a')]\n",
    "a_a = a_a.iloc[3:]\n",
    "a_a = a_a.drop(a_a.columns[[2,3,4,5,6,7,8]], axis=1)\n",
    "a_a['group'] = a_a['label'].str.extract(r'a_subj\\((\\d+)\\)')\n",
    "a_a101 = a_a[a_a['group']=='101'].copy()\n",
    "a_a101.loc[:, 'label'] = a_a101['label'].str.replace(r'a_subj\\(101\\)\\.', '', regex=True)\n",
    "a_a102 = a_a[a_a['group']=='102'].copy()\n",
    "a_a102.loc[:, 'label'] = a_a102['label'].str.replace(r'a_subj\\(102\\)\\.', '', regex=True)\n",
    "a_a101.drop(columns=['group'], inplace=True)\n",
    "a_a102.drop(columns=['group'], inplace=True)\n",
    "\n",
    "a_a101Anx,a_a101NonAnx,a_a102Anx,a_a102NonAnx = [], [], [], []\n",
    "for label in a_a101['label']:\n",
    "    if label in anxious:\n",
    "        a_a101Anx.append(a_a101.loc[a_a101['label'] == label, 'mean'].iloc[0])\n",
    "    else:\n",
    "        a_a101NonAnx.append(a_a101.loc[a_a101['label'] == label, 'mean'].iloc[0])\n",
    "for label in a_a102['label']:\n",
    "    if label in anxious:\n",
    "        a_a102Anx.append(a_a102.loc[a_a102['label'] == label, 'mean'].iloc[0])\n",
    "    else:\n",
    "        a_a102NonAnx.append(a_a102.loc[a_a102['label'] == label, 'mean'].iloc[0])\n"
   ]
  },
  {
   "cell_type": "code",
   "execution_count": 73,
   "metadata": {},
   "outputs": [],
   "source": [
    "a_v = cA[cA['label'].str.startswith('v')]\n",
    "a_v = a_v.iloc[2:]\n",
    "a_v = a_v.drop(a_v.columns[[2,3,4,5,6,7,8]], axis=1)\n",
    "a_v['label'] = a_v['label'].str.replace('v_subj.', '')\n",
    "a_vAnx, a_vNonAnx = [], []\n",
    "\n",
    "for label in a_v['label']:\n",
    "    if label in anxious:\n",
    "        a_vAnx.append(a_v.loc[a_v['label'] == label, 'mean'].iloc[0])\n",
    "    else:\n",
    "        a_vNonAnx.append(a_v.loc[a_v['label'] == label, 'mean'].iloc[0])"
   ]
  },
  {
   "cell_type": "code",
   "execution_count": 74,
   "metadata": {},
   "outputs": [],
   "source": [
    "a_t = cA[cA['label'].str.startswith('t')]\n",
    "a_t = a_t.iloc[2:]\n",
    "a_t = a_t.drop(a_t.columns[[2,3,4,5,6,7,8]], axis=1)\n",
    "a_t['label'] = a_t['label'].str.replace('t_subj.', '')\n",
    "a_tAnx, a_tNonAnx = [], []\n",
    "\n",
    "for label in a_t['label']:\n",
    "    if label in anxious:\n",
    "        a_tAnx.append(a_t.loc[a_t['label'] == label, 'mean'].iloc[0])\n",
    "    else:\n",
    "        a_tNonAnx.append(a_t.loc[a_t['label'] == label, 'mean'].iloc[0])"
   ]
  },
  {
   "cell_type": "code",
   "execution_count": 76,
   "metadata": {},
   "outputs": [
    {
     "name": "stdout",
     "output_type": "stream",
     "text": [
      "54\n"
     ]
    }
   ],
   "source": [
    "a_z = cA[cA['label'].str.startswith('z')]\n",
    "a_z = a_z.iloc[2:]\n",
    "a_z = a_z.drop(a_z.columns[[2,3,4,5,6,7,8]], axis=1)\n",
    "a_z['label'] = a_z['label'].str.replace('z_subj.', '')\n",
    "a_zAnx, a_zNonAnx = [], []\n",
    "\n",
    "for label in a_z['label']:\n",
    "    if label in anxious:\n",
    "        a_zAnx.append(a_z.loc[a_z['label'] == label, 'mean'].iloc[0])\n",
    "    else:\n",
    "        a_zNonAnx.append(a_z.loc[a_z['label'] == label, 'mean'].iloc[0])"
   ]
  },
  {
   "cell_type": "code",
   "execution_count": 107,
   "metadata": {},
   "outputs": [],
   "source": [
    "a_a101Anx = np.array(a_a101Anx,dtype=np.float64)\n",
    "a_a101NonAnx = np.array(a_a101NonAnx,dtype=np.float64)\n",
    "a_a102Anx = np.array(a_a102Anx,dtype=np.float64)\n",
    "a_a102NonAnx = np.array(a_a102NonAnx,dtype=np.float64)\n",
    "a_vAnx = np.array(a_vAnx,dtype=np.float64)\n",
    "a_vNonAnx = np.array(a_vNonAnx,dtype=np.float64)\n",
    "a_tAnx = np.array(a_tAnx,dtype=np.float64)\n",
    "a_tNonAnx = np.array(a_tNonAnx,dtype=np.float64)\n",
    "a_zAnx = np.array(a_zAnx,dtype=np.float64)\n",
    "a_zNonAnx = np.array(a_zNonAnx,dtype=np.float64)"
   ]
  },
  {
   "cell_type": "code",
   "execution_count": 112,
   "metadata": {},
   "outputs": [
    {
     "name": "stdout",
     "output_type": "stream",
     "text": [
      "a_a101Anx vs a_a101NonAnx\n",
      "T-statistic: -0.6666711199242902\n",
      "P-value: 0.5063411614853486\n",
      "\n",
      "\n",
      "a_a102Anx vs a_a102NonAnx\n",
      "T-statistic: -0.1482420736180439\n",
      "P-value: 0.8824159381499271\n",
      "\n",
      "\n",
      "a_vAnx vs a_vNonAnx\n",
      "T-statistic: -0.27642173196522646\n",
      "P-value: 0.7827291128696606\n",
      "\n",
      "\n",
      "a_tAnx vs a_tNonAnx\n",
      "T-statistic: -1.1114797041653444\n",
      "P-value: 0.2687211788492666\n",
      "\n",
      "\n",
      "a_zAnx vs a_zNonAnx\n",
      "T-statistic: -1.2366147584182472\n",
      "P-value: 0.21879417023626954\n"
     ]
    }
   ],
   "source": [
    "#t-test on all the parameters for anxious and non-anxious\n",
    "t_stat, p_val = stats.ttest_ind(a_a101Anx, a_a101NonAnx)\n",
    "print('a_a101Anx vs a_a101NonAnx')\n",
    "print(\"T-statistic:\", t_stat)\n",
    "print(\"P-value:\", p_val)\n",
    "print('\\n')\n",
    "t_stat, p_val = stats.ttest_ind(a_a102Anx, a_a102NonAnx)\n",
    "print('a_a102Anx vs a_a102NonAnx')\n",
    "print(\"T-statistic:\", t_stat)\n",
    "print(\"P-value:\", p_val)\n",
    "print('\\n')\n",
    "t_stat, p_val = stats.ttest_ind(a_vAnx, a_vNonAnx)\n",
    "print('a_vAnx vs a_vNonAnx')\n",
    "print(\"T-statistic:\", t_stat)\n",
    "print(\"P-value:\", p_val)\n",
    "print('\\n')\n",
    "t_stat, p_val = stats.ttest_ind(a_tAnx, a_tNonAnx)\n",
    "print('a_tAnx vs a_tNonAnx')\n",
    "print(\"T-statistic:\", t_stat)\n",
    "print(\"P-value:\", p_val)\n",
    "print('\\n')\n",
    "t_stat, p_val = stats.ttest_ind(a_zAnx, a_zNonAnx)\n",
    "print('a_zAnx vs a_zNonAnx')\n",
    "print(\"T-statistic:\", t_stat)\n",
    "print(\"P-value:\", p_val)\n"
   ]
  },
  {
   "cell_type": "markdown",
   "metadata": {},
   "source": [
    "## 2 Condition (v)"
   ]
  },
  {
   "cell_type": "code",
   "execution_count": 79,
   "metadata": {},
   "outputs": [],
   "source": [
    "v_a = cV[cV['label'].str.startswith('a')]\n",
    "v_a = v_a.iloc[2:]\n",
    "v_a = v_a.drop(v_a.columns[[2,3,4,5,6,7,8]], axis=1)\n",
    "v_a['label'] = v_a['label'].str.replace('a_subj.', '')\n",
    "v_aAnx, v_aNonAnx = [], []\n",
    "\n",
    "for label in v_a['label']:\n",
    "    if label in anxious:\n",
    "        v_aAnx.append(v_a.loc[v_a['label'] == label, 'mean'].iloc[0])\n",
    "    else:\n",
    "        v_aNonAnx.append(v_a.loc[v_a['label'] == label, 'mean'].iloc[0])"
   ]
  },
  {
   "cell_type": "code",
   "execution_count": 87,
   "metadata": {},
   "outputs": [],
   "source": [
    "v_v = cV[cV['label'].str.startswith('v')]\n",
    "v_v = v_v.iloc[3:]\n",
    "v_v = v_v.drop(v_v.columns[[2,3,4,5,6,7,8]], axis=1)\n",
    "v_v['group'] = v_v['label'].str.extract(r'v_subj\\((\\d+)\\)')\n",
    "v_v101 = v_v[v_v['group']=='101'].copy()\n",
    "v_v101.loc[:, 'label'] = v_v101['label'].str.replace(r'v_subj\\(101\\)\\.', '', regex=True)\n",
    "v_v102 = v_v[v_v['group']=='102'].copy()\n",
    "v_v102.loc[:, 'label'] = v_v102['label'].str.replace(r'v_subj\\(102\\)\\.', '', regex=True)\n",
    "v_v101.drop(columns=['group'], inplace=True)\n",
    "v_v102.drop(columns=['group'], inplace=True)\n",
    "\n",
    "v_v101Anx,v_v101NonAnx,v_v102Anx,v_v102NonAnx = [], [], [], []\n",
    "for label in v_v101['label']:\n",
    "    if label in anxious:\n",
    "        v_v101Anx.append(v_v101.loc[v_v101['label'] == label, 'mean'].iloc[0])\n",
    "    else:\n",
    "        v_v101NonAnx.append(v_v101.loc[v_v101['label'] == label, 'mean'].iloc[0])\n",
    "for label in v_v102['label']:\n",
    "    if label in anxious:\n",
    "        v_v102Anx.append(v_v102.loc[v_v102['label'] == label, 'mean'].iloc[0])\n",
    "    else:\n",
    "        v_v102NonAnx.append(v_v102.loc[v_v102['label'] == label, 'mean'].iloc[0])"
   ]
  },
  {
   "cell_type": "code",
   "execution_count": 88,
   "metadata": {},
   "outputs": [],
   "source": [
    "v_t = cV[cV['label'].str.startswith('t')]\n",
    "v_t = v_t.iloc[2:]\n",
    "v_t = v_t.drop(v_t.columns[[2,3,4,5,6,7,8]], axis=1)\n",
    "v_t['label'] = v_t['label'].str.replace('t_subj.', '')\n",
    "v_tAnx, v_tNonAnx = [], []\n",
    "\n",
    "for label in v_t['label']:\n",
    "    if label in anxious:\n",
    "        v_tAnx.append(v_t.loc[v_t['label'] == label, 'mean'].iloc[0])\n",
    "    else:\n",
    "        v_tNonAnx.append(v_t.loc[v_t['label'] == label, 'mean'].iloc[0])"
   ]
  },
  {
   "cell_type": "code",
   "execution_count": 89,
   "metadata": {},
   "outputs": [],
   "source": [
    "v_z = cV[cV['label'].str.startswith('z')]\n",
    "v_z = v_z.iloc[2:]\n",
    "v_z = v_z.drop(v_z.columns[[2,3,4,5,6,7,8]], axis=1)\n",
    "v_z['label'] = v_z['label'].str.replace('z_subj.', '')\n",
    "v_zAnx, v_zNonAnx = [], []\n",
    "\n",
    "for label in v_z['label']:\n",
    "    if label in anxious:\n",
    "        v_zAnx.append(v_z.loc[v_z['label'] == label, 'mean'].iloc[0])\n",
    "    else:\n",
    "        v_zNonAnx.append(v_z.loc[v_z['label'] == label, 'mean'].iloc[0])"
   ]
  },
  {
   "cell_type": "code",
   "execution_count": 113,
   "metadata": {},
   "outputs": [],
   "source": [
    "v_aAnx = np.array(v_aAnx,dtype=np.float64)\n",
    "v_aNonAnx = np.array(v_aNonAnx,dtype=np.float64)\n",
    "v_v101Anx = np.array(v_v101Anx,dtype=np.float64)\n",
    "v_v101NonAnx = np.array(v_v101NonAnx,dtype=np.float64)\n",
    "v_v102Anx = np.array(v_v102Anx,dtype=np.float64)\n",
    "v_v102NonAnx = np.array(v_v102NonAnx,dtype=np.float64)\n",
    "v_tAnx = np.array(v_tAnx,dtype=np.float64)\n",
    "v_tNonAnx = np.array(v_tNonAnx,dtype=np.float64)\n",
    "v_zAnx = np.array(v_zAnx,dtype=np.float64)\n",
    "v_zNonAnx = np.array(v_zNonAnx,dtype=np.float64)"
   ]
  },
  {
   "cell_type": "code",
   "execution_count": 114,
   "metadata": {},
   "outputs": [
    {
     "name": "stdout",
     "output_type": "stream",
     "text": [
      "v_aAnx vs v_aNonAnx\n",
      "T-statistic: -1.1563025237904225\n",
      "P-value: 0.2499962184072306\n",
      "\n",
      "\n",
      "v_v101Anx vs v_v101NonAnx\n",
      "T-statistic: -1.303906423568299\n",
      "P-value: 0.1949154626998174\n",
      "\n",
      "\n",
      "v_v102Anx vs v_v102NonAnx\n",
      "T-statistic: 1.6390887672675727\n",
      "P-value: 0.10397606269846903\n",
      "\n",
      "\n",
      "v_tAnx vs v_tNonAnx\n",
      "T-statistic: -0.9864401522176591\n",
      "P-value: 0.32602463732068054\n",
      "\n",
      "\n",
      "v_zAnx vs v_zNonAnx\n",
      "T-statistic: -1.1141364208282947\n",
      "P-value: 0.26758481335707285\n"
     ]
    }
   ],
   "source": [
    "#t-test on all the parameters for anxious and non-anxious\n",
    "t_stat, p_val = stats.ttest_ind(v_aAnx, v_aNonAnx)\n",
    "print('v_aAnx vs v_aNonAnx')\n",
    "print(\"T-statistic:\", t_stat)\n",
    "print(\"P-value:\", p_val)\n",
    "print('\\n')\n",
    "t_stat, p_val = stats.ttest_ind(v_v101Anx, v_v101NonAnx)\n",
    "print('v_v101Anx vs v_v101NonAnx')\n",
    "print(\"T-statistic:\", t_stat)\n",
    "print(\"P-value:\", p_val)\n",
    "print('\\n')\n",
    "t_stat, p_val = stats.ttest_ind(v_v102Anx, v_v102NonAnx)\n",
    "print('v_v102Anx vs v_v102NonAnx')\n",
    "print(\"T-statistic:\", t_stat)\n",
    "print(\"P-value:\", p_val)\n",
    "print('\\n')\n",
    "t_stat, p_val = stats.ttest_ind(v_tAnx, v_tNonAnx)\n",
    "print('v_tAnx vs v_tNonAnx')\n",
    "print(\"T-statistic:\", t_stat)\n",
    "print(\"P-value:\", p_val)\n",
    "print('\\n')\n",
    "t_stat, p_val = stats.ttest_ind(v_zAnx, v_zNonAnx)\n",
    "print('v_zAnx vs v_zNonAnx')\n",
    "print(\"T-statistic:\", t_stat)\n",
    "print(\"P-value:\", p_val)"
   ]
  },
  {
   "cell_type": "markdown",
   "metadata": {},
   "source": [
    "## 2 Condition (t)"
   ]
  },
  {
   "cell_type": "code",
   "execution_count": 90,
   "metadata": {},
   "outputs": [],
   "source": [
    "t_a = cT[cT['label'].str.startswith('a')]\n",
    "t_a = t_a.iloc[2:]\n",
    "t_a = t_a.drop(t_a.columns[[2,3,4,5,6,7,8]], axis=1)\n",
    "t_a['label'] = t_a['label'].str.replace('a_subj.', '')\n",
    "t_aAnx, t_aNonAnx = [], []\n",
    "\n",
    "for label in t_a['label']:\n",
    "    if label in anxious:\n",
    "        t_aAnx.append(t_a.loc[t_a['label'] == label, 'mean'].iloc[0])\n",
    "    else:\n",
    "        t_aNonAnx.append(t_a.loc[t_a['label'] == label, 'mean'].iloc[0])"
   ]
  },
  {
   "cell_type": "code",
   "execution_count": 91,
   "metadata": {},
   "outputs": [],
   "source": [
    "t_v = cT[cT['label'].str.startswith('v')]\n",
    "t_v = t_v.iloc[2:]\n",
    "t_v = t_v.drop(t_v.columns[[2,3,4,5,6,7,8]], axis=1)\n",
    "t_v['label'] = t_v['label'].str.replace('v_subj.', '')\n",
    "t_vAnx, t_vNonAnx = [], []\n",
    "\n",
    "for label in t_v['label']:\n",
    "    if label in anxious:\n",
    "        t_vAnx.append(t_v.loc[t_v['label'] == label, 'mean'].iloc[0])\n",
    "    else:\n",
    "        t_vNonAnx.append(t_v.loc[t_v['label'] == label, 'mean'].iloc[0])"
   ]
  },
  {
   "cell_type": "code",
   "execution_count": 92,
   "metadata": {},
   "outputs": [],
   "source": [
    "t_t = cT[cT['label'].str.startswith('t')]\n",
    "t_t = t_t.iloc[3:]\n",
    "t_t = t_t.drop(t_t.columns[[2,3,4,5,6,7,8]], axis=1)\n",
    "t_t['group'] = t_t['label'].str.extract(r't_subj\\((\\d+)\\)')\n",
    "t_t101 = t_t[t_t['group']=='101'].copy()\n",
    "t_t101.loc[:, 'label'] = t_t101['label'].str.replace(r't_subj\\(101\\)\\.', '', regex=True)\n",
    "t_t102 = t_t[t_t['group']=='102'].copy()\n",
    "t_t102.loc[:, 'label'] = t_t102['label'].str.replace(r't_subj\\(102\\)\\.', '', regex=True)\n",
    "t_t101.drop(columns=['group'], inplace=True)\n",
    "t_t102.drop(columns=['group'], inplace=True)\n",
    "\n",
    "t_t101Anx,t_t101NonAnx,t_t102Anx,t_t102NonAnx = [], [], [], []\n",
    "for label in t_t101['label']:\n",
    "    if label in anxious:\n",
    "        t_t101Anx.append(t_t101.loc[t_t101['label'] == label, 'mean'].iloc[0])\n",
    "    else:\n",
    "        t_t101NonAnx.append(t_t101.loc[t_t101['label'] == label, 'mean'].iloc[0])\n",
    "for label in t_t102['label']:\n",
    "    if label in anxious:\n",
    "        t_t102Anx.append(t_t102.loc[t_t102['label'] == label, 'mean'].iloc[0])\n",
    "    else:\n",
    "        t_t102NonAnx.append(t_t102.loc[t_t102['label'] == label, 'mean'].iloc[0])"
   ]
  },
  {
   "cell_type": "code",
   "execution_count": 93,
   "metadata": {},
   "outputs": [],
   "source": [
    "t_z = cT[cT['label'].str.startswith('z')]\n",
    "t_z = t_z.iloc[2:]\n",
    "t_z = t_z.drop(t_z.columns[[2,3,4,5,6,7,8]], axis=1)\n",
    "t_z['label'] = t_z['label'].str.replace('z_subj.', '')\n",
    "t_zAnx, t_zNonAnx = [], []\n",
    "\n",
    "for label in t_z['label']:\n",
    "    if label in anxious:\n",
    "        t_zAnx.append(t_z.loc[t_z['label'] == label, 'mean'].iloc[0])\n",
    "    else:\n",
    "        t_zNonAnx.append(t_z.loc[t_z['label'] == label, 'mean'].iloc[0])"
   ]
  },
  {
   "cell_type": "code",
   "execution_count": 115,
   "metadata": {},
   "outputs": [],
   "source": [
    "t_aAnx = np.array(t_aAnx,dtype=np.float64)\n",
    "t_aNonAnx = np.array(t_aNonAnx,dtype=np.float64)\n",
    "t_vAnx = np.array(t_vAnx,dtype=np.float64)\n",
    "t_vNonAnx = np.array(t_vNonAnx,dtype=np.float64)\n",
    "t_t101Anx = np.array(t_t101Anx,dtype=np.float64)\n",
    "t_t101NonAnx = np.array(t_t101NonAnx,dtype=np.float64)\n",
    "t_t102Anx = np.array(t_t102Anx,dtype=np.float64)\n",
    "t_t102NonAnx = np.array(t_t102NonAnx,dtype=np.float64)\n",
    "t_zAnx = np.array(t_zAnx,dtype=np.float64)\n",
    "t_zNonAnx = np.array(t_zNonAnx,dtype=np.float64)"
   ]
  },
  {
   "cell_type": "code",
   "execution_count": 116,
   "metadata": {},
   "outputs": [
    {
     "name": "stdout",
     "output_type": "stream",
     "text": [
      "t_aAnx vs t_aNonAnx\n",
      "T-statistic: -0.7531528001921657\n",
      "P-value: 0.4529243859130685\n",
      "\n",
      "\n",
      "t_vAnx vs t_vNonAnx\n",
      "T-statistic: -0.43919102168572327\n",
      "P-value: 0.6613618183983443\n",
      "\n",
      "\n",
      "t_t101Anx vs t_t101NonAnx\n",
      "T-statistic: -0.7380406473154582\n",
      "P-value: 0.4620197230975781\n",
      "\n",
      "\n",
      "t_t102Anx vs t_t102NonAnx\n",
      "T-statistic: -1.2367655506873092\n",
      "P-value: 0.21873837965621562\n",
      "\n",
      "\n",
      "t_zAnx vs t_zNonAnx\n",
      "T-statistic: -0.937741266285438\n",
      "P-value: 0.3503773616805016\n"
     ]
    }
   ],
   "source": [
    "#t-test on all the parameters for anxious and non-anxious\n",
    "t_stat, p_val = stats.ttest_ind(t_aAnx, t_aNonAnx)\n",
    "print('t_aAnx vs t_aNonAnx')\n",
    "print(\"T-statistic:\", t_stat)\n",
    "print(\"P-value:\", p_val)\n",
    "print('\\n')\n",
    "t_stat, p_val = stats.ttest_ind(t_vAnx, t_vNonAnx)\n",
    "print('t_vAnx vs t_vNonAnx')\n",
    "print(\"T-statistic:\", t_stat)\n",
    "print(\"P-value:\", p_val)\n",
    "print('\\n')\n",
    "t_stat, p_val = stats.ttest_ind(t_t101Anx, t_t101NonAnx)\n",
    "print('t_t101Anx vs t_t101NonAnx')\n",
    "print(\"T-statistic:\", t_stat)\n",
    "print(\"P-value:\", p_val)\n",
    "print('\\n')\n",
    "t_stat, p_val = stats.ttest_ind(t_t102Anx, t_t102NonAnx)\n",
    "print('t_t102Anx vs t_t102NonAnx')\n",
    "print(\"T-statistic:\", t_stat)\n",
    "print(\"P-value:\", p_val)\n",
    "print('\\n')\n",
    "t_stat, p_val = stats.ttest_ind(t_zAnx, t_zNonAnx)\n",
    "print('t_zAnx vs t_zNonAnx')\n",
    "print(\"T-statistic:\", t_stat)\n",
    "print(\"P-value:\", p_val)"
   ]
  },
  {
   "cell_type": "markdown",
   "metadata": {},
   "source": [
    "## 2 Condition (z)"
   ]
  },
  {
   "cell_type": "code",
   "execution_count": 94,
   "metadata": {},
   "outputs": [],
   "source": [
    "z_a = cZ[cZ['label'].str.startswith('a')]\n",
    "z_a = z_a.iloc[2:]\n",
    "z_a = z_a.drop(z_a.columns[[2,3,4,5,6,7,8]], axis=1)\n",
    "z_a['label'] = z_a['label'].str.replace('a_subj.', '')\n",
    "z_aAnx, z_aNonAnx = [], []\n",
    "\n",
    "for label in z_a['label']:\n",
    "    if label in anxious:\n",
    "        z_aAnx.append(z_a.loc[z_a['label'] == label, 'mean'].iloc[0])\n",
    "    else:\n",
    "        z_aNonAnx.append(z_a.loc[z_a['label'] == label, 'mean'].iloc[0])"
   ]
  },
  {
   "cell_type": "code",
   "execution_count": 95,
   "metadata": {},
   "outputs": [],
   "source": [
    "z_v = cZ[cZ['label'].str.startswith('v')]\n",
    "z_v = z_v.iloc[2:]\n",
    "z_v = z_v.drop(z_v.columns[[2,3,4,5,6,7,8]], axis=1)\n",
    "z_v['label'] = z_v['label'].str.replace('v_subj.', '')\n",
    "z_vAnx, z_vNonAnx = [], []\n",
    "\n",
    "for label in z_v['label']:\n",
    "    if label in anxious:\n",
    "        z_vAnx.append(z_v.loc[z_v['label'] == label, 'mean'].iloc[0])\n",
    "    else:\n",
    "        z_vNonAnx.append(z_v.loc[z_v['label'] == label, 'mean'].iloc[0])"
   ]
  },
  {
   "cell_type": "code",
   "execution_count": 96,
   "metadata": {},
   "outputs": [],
   "source": [
    "z_t = cZ[cZ['label'].str.startswith('t')]\n",
    "z_t = z_t.iloc[2:]\n",
    "z_t = z_t.drop(z_t.columns[[2,3,4,5,6,7,8]], axis=1)\n",
    "z_t['label'] = z_t['label'].str.replace('t_subj.', '')\n",
    "z_tAnx, z_tNonAnx = [], []\n",
    "\n",
    "for label in z_t['label']:\n",
    "    if label in anxious:\n",
    "        z_tAnx.append(z_t.loc[z_t['label'] == label, 'mean'].iloc[0])\n",
    "    else:\n",
    "        z_tNonAnx.append(z_t.loc[z_t['label'] == label, 'mean'].iloc[0])"
   ]
  },
  {
   "cell_type": "code",
   "execution_count": 97,
   "metadata": {},
   "outputs": [],
   "source": [
    "z_z = cZ[cZ['label'].str.startswith('z')]\n",
    "z_z = z_z.iloc[3:]\n",
    "z_z = z_z.drop(z_z.columns[[2,3,4,5,6,7,8]], axis=1)\n",
    "z_z['group'] = z_z['label'].str.extract(r'z_subj\\((\\d+)\\)')\n",
    "z_z101 = z_z[z_z['group']=='101'].copy()\n",
    "z_z101.loc[:, 'label'] = z_z101['label'].str.replace(r'z_subj\\(101\\)\\.', '', regex=True)\n",
    "z_z102 = z_z[z_z['group']=='102'].copy()\n",
    "z_z102.loc[:, 'label'] = z_z102['label'].str.replace(r'z_subj\\(102\\)\\.', '', regex=True)\n",
    "z_z101.drop(columns=['group'], inplace=True)\n",
    "z_z102.drop(columns=['group'], inplace=True)\n",
    "\n",
    "z_z101Anx,z_z101NonAnx,z_z102Anx,z_z102NonAnx = [], [], [], []\n",
    "for label in z_z101['label']:\n",
    "    if label in anxious:\n",
    "        z_z101Anx.append(z_z101.loc[z_z101['label'] == label, 'mean'].iloc[0])\n",
    "    else:\n",
    "        z_z101NonAnx.append(z_z101.loc[z_z101['label'] == label, 'mean'].iloc[0])\n",
    "for label in z_z102['label']:\n",
    "    if label in anxious:\n",
    "        z_z102Anx.append(z_z102.loc[z_z102['label'] == label, 'mean'].iloc[0])\n",
    "    else:\n",
    "        z_z102NonAnx.append(z_z102.loc[z_z102['label'] == label, 'mean'].iloc[0])"
   ]
  },
  {
   "cell_type": "code",
   "execution_count": 117,
   "metadata": {},
   "outputs": [],
   "source": [
    "z_aAnx = np.array(z_aAnx,dtype=np.float64)\n",
    "z_aNonAnx = np.array(z_aNonAnx,dtype=np.float64)\n",
    "z_vAnx = np.array(z_vAnx,dtype=np.float64)\n",
    "z_vNonAnx = np.array(z_vNonAnx,dtype=np.float64)\n",
    "z_tAnx = np.array(z_tAnx,dtype=np.float64)\n",
    "z_tNonAnx = np.array(z_tNonAnx,dtype=np.float64)\n",
    "z_z101Anx = np.array(z_z101Anx,dtype=np.float64)\n",
    "z_z101NonAnx = np.array(z_z101NonAnx,dtype=np.float64)\n",
    "z_z102Anx = np.array(z_z102Anx,dtype=np.float64)\n",
    "z_z102NonAnx = np.array(z_z102NonAnx,dtype=np.float64)"
   ]
  },
  {
   "cell_type": "code",
   "execution_count": 118,
   "metadata": {},
   "outputs": [
    {
     "name": "stdout",
     "output_type": "stream",
     "text": [
      "z_aAnx vs z_aNonAnx\n",
      "T-statistic: -0.9528094165740925\n",
      "P-value: 0.3427203258679471\n",
      "\n",
      "\n",
      "z_vAnx vs z_vNonAnx\n",
      "T-statistic: -0.18849842506696368\n",
      "P-value: 0.8508240607251328\n",
      "\n",
      "\n",
      "z_tAnx vs z_tNonAnx\n",
      "T-statistic: -1.2530813307065198\n",
      "P-value: 0.2127628479240167\n",
      "\n",
      "\n",
      "z_z101Anx vs z_z101NonAnx\n",
      "T-statistic: -2.088371982495581\n",
      "P-value: 0.03901059513527741\n",
      "\n",
      "\n",
      "z_z102Anx vs z_z102NonAnx\n",
      "T-statistic: 0.8326678980047086\n",
      "P-value: 0.4067884487003729\n"
     ]
    }
   ],
   "source": [
    "#t-test on all the parameters for anxious and non-anxious\n",
    "t_stat, p_val = stats.ttest_ind(z_aAnx, z_aNonAnx)\n",
    "print('z_aAnx vs z_aNonAnx')\n",
    "print(\"T-statistic:\", t_stat)\n",
    "print(\"P-value:\", p_val)\n",
    "print('\\n')\n",
    "t_stat, p_val = stats.ttest_ind(z_vAnx, z_vNonAnx)\n",
    "print('z_vAnx vs z_vNonAnx')\n",
    "print(\"T-statistic:\", t_stat)\n",
    "print(\"P-value:\", p_val)\n",
    "print('\\n')\n",
    "t_stat, p_val = stats.ttest_ind(z_tAnx, z_tNonAnx)\n",
    "print('z_tAnx vs z_tNonAnx')\n",
    "print(\"T-statistic:\", t_stat)\n",
    "print(\"P-value:\", p_val)\n",
    "print('\\n')\n",
    "t_stat, p_val = stats.ttest_ind(z_z101Anx, z_z101NonAnx)\n",
    "print('z_z101Anx vs z_z101NonAnx')\n",
    "print(\"T-statistic:\", t_stat)\n",
    "print(\"P-value:\", p_val)\n",
    "print('\\n')\n",
    "t_stat, p_val = stats.ttest_ind(z_z102Anx, z_z102NonAnx)\n",
    "print('z_z102Anx vs z_z102NonAnx')\n",
    "print(\"T-statistic:\", t_stat)\n",
    "print(\"P-value:\", p_val)"
   ]
  }
 ],
 "metadata": {
  "kernelspec": {
   "display_name": "pyHDDM",
   "language": "python",
   "name": "python3"
  },
  "language_info": {
   "codemirror_mode": {
    "name": "ipython",
    "version": 3
   },
   "file_extension": ".py",
   "mimetype": "text/x-python",
   "name": "python",
   "nbconvert_exporter": "python",
   "pygments_lexer": "ipython3",
   "version": "3.6.13"
  },
  "orig_nbformat": 4
 },
 "nbformat": 4,
 "nbformat_minor": 2
}
